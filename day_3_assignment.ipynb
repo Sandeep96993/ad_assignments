{
  "nbformat": 4,
  "nbformat_minor": 0,
  "metadata": {
    "colab": {
      "provenance": [],
      "authorship_tag": "ABX9TyNlbCNH7GINzsJTTOnr1hCO",
      "include_colab_link": true
    },
    "kernelspec": {
      "name": "python3",
      "display_name": "Python 3"
    },
    "language_info": {
      "name": "python"
    }
  },
  "cells": [
    {
      "cell_type": "markdown",
      "metadata": {
        "id": "view-in-github",
        "colab_type": "text"
      },
      "source": [
        "<a href=\"https://colab.research.google.com/github/Sandeep96993/ad_assignments/blob/main/day_3_assignment.ipynb\" target=\"_parent\"><img src=\"https://colab.research.google.com/assets/colab-badge.svg\" alt=\"Open In Colab\"/></a>"
      ]
    },
    {
      "cell_type": "code",
      "source": [
        "def calculate_grade(marks):\n",
        "    average = sum(marks) / len(marks)\n",
        "    if average >= 90:\n",
        "        return \"Grade: A\"\n",
        "    elif 80 <= average < 90:\n",
        "        return \"Grade: B\"\n",
        "    elif 70 <= average < 80:\n",
        "        return \"Grade: C\"\n",
        "    else:\n",
        "        return \"Grade: Fail\"\n",
        "\n",
        "marks = []\n",
        "for i in range(1, 4):\n",
        "    mark = float(input(f\"Enter marks for subject {i}: \"))\n",
        "    marks.append(mark)\n",
        "\n",
        "grade = calculate_grade(marks)\n",
        "print(grade)"
      ],
      "metadata": {
        "colab": {
          "base_uri": "https://localhost:8080/"
        },
        "id": "Eyll6jdCfQ1U",
        "outputId": "91d0ea66-d8ed-4a51-9b1c-3f780bbf6e9f"
      },
      "execution_count": 6,
      "outputs": [
        {
          "output_type": "stream",
          "name": "stdout",
          "text": [
            "Enter marks for subject 1: 55\n",
            "Enter marks for subject 2: 25\n",
            "Enter marks for subject 3: 65\n",
            "Grade: Fail\n"
          ]
        }
      ]
    },
    {
      "cell_type": "code",
      "source": [],
      "metadata": {
        "id": "sCSR62wEfart"
      },
      "execution_count": null,
      "outputs": []
    }
  ]
}