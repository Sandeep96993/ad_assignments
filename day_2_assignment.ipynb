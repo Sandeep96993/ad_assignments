{
  "nbformat": 4,
  "nbformat_minor": 0,
  "metadata": {
    "colab": {
      "provenance": [],
      "authorship_tag": "ABX9TyNmeNIeOaQn5RW5wJ4uITej",
      "include_colab_link": true
    },
    "kernelspec": {
      "name": "python3",
      "display_name": "Python 3"
    },
    "language_info": {
      "name": "python"
    }
  },
  "cells": [
    {
      "cell_type": "markdown",
      "metadata": {
        "id": "view-in-github",
        "colab_type": "text"
      },
      "source": [
        "<a href=\"https://colab.research.google.com/github/Sandeep96993/ad_assignments/blob/main/day_2_assignment.ipynb\" target=\"_parent\"><img src=\"https://colab.research.google.com/assets/colab-badge.svg\" alt=\"Open In Colab\"/></a>"
      ]
    },
    {
      "cell_type": "code",
      "execution_count": 2,
      "metadata": {
        "colab": {
          "base_uri": "https://localhost:8080/"
        },
        "id": "4RU41Sh-eglu",
        "outputId": "c096894b-c047-4aac-8335-5f7295cdb1a3"
      },
      "outputs": [
        {
          "output_type": "stream",
          "name": "stdout",
          "text": [
            "List: [10, 20, 30, 40, 50]\n",
            "First element: 10\n",
            "Third element: 30\n",
            "Last element: 50\n"
          ]
        }
      ],
      "source": [
        "my_list = [10, 20, 30, 40, 50]\n",
        "\n",
        "first_element = my_list[0]\n",
        "third_element = my_list[2]\n",
        "last_element =  my_list[-1]\n",
        "print(\"List:\", my_list)\n",
        "print(\"First element:\", first_element)\n",
        "print(\"Third element:\", third_element)\n",
        "print(\"Last element:\", last_element)\n",
        "\n",
        "\n"
      ]
    },
    {
      "cell_type": "code",
      "source": [
        "my_tuple = (100, 200, 300, 400, 500)\n",
        "\n",
        "second_element = my_tuple[1]\n",
        "fourth_element = my_tuple[3]\n",
        "print(\"Tuple:\", my_tuple)\n",
        "print(\"Second element:\", second_element)\n",
        "print(\"Fourth element:\", fourth_element)"
      ],
      "metadata": {
        "colab": {
          "base_uri": "https://localhost:8080/"
        },
        "id": "ZFybbMkqe3l7",
        "outputId": "9425031c-2e1b-458f-9583-13b763965046"
      },
      "execution_count": 3,
      "outputs": [
        {
          "output_type": "stream",
          "name": "stdout",
          "text": [
            "Tuple: (100, 200, 300, 400, 500)\n",
            "Second element: 200\n",
            "Fourth element: 400\n"
          ]
        }
      ]
    },
    {
      "cell_type": "code",
      "source": [
        "my_dict = {\n",
        "    \"name\": \"Alice\",\n",
        "    \"age\": 25,\n",
        "    \"city\": \"New York\",\n",
        "    \"job\": \"Engineer\",\n",
        "    \"hobby\": \"Reading\"\n",
        "}\n",
        "\n",
        "name = my_dict[\"name\"]\n",
        "age = my_dict[\"age\"]\n",
        "print(\"Name:\", name)\n",
        "print(\"Age:\", age)"
      ],
      "metadata": {
        "colab": {
          "base_uri": "https://localhost:8080/"
        },
        "id": "8OEx8DM2e8Th",
        "outputId": "978d4aec-e97b-424f-e6ea-d76c8844bc6b"
      },
      "execution_count": 5,
      "outputs": [
        {
          "output_type": "stream",
          "name": "stdout",
          "text": [
            "Name: Alice\n",
            "Age: 25\n"
          ]
        }
      ]
    }
  ]
}