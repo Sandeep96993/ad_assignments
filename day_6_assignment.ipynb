{
  "nbformat": 4,
  "nbformat_minor": 0,
  "metadata": {
    "colab": {
      "provenance": [],
      "authorship_tag": "ABX9TyNdPdVg+vCDVJdZ8sv6qHdW",
      "include_colab_link": true
    },
    "kernelspec": {
      "name": "python3",
      "display_name": "Python 3"
    },
    "language_info": {
      "name": "python"
    }
  },
  "cells": [
    {
      "cell_type": "markdown",
      "metadata": {
        "id": "view-in-github",
        "colab_type": "text"
      },
      "source": [
        "<a href=\"https://colab.research.google.com/github/Sandeep96993/ad_assignments/blob/main/day_6_assignment.ipynb\" target=\"_parent\"><img src=\"https://colab.research.google.com/assets/colab-badge.svg\" alt=\"Open In Colab\"/></a>"
      ]
    },
    {
      "cell_type": "code",
      "source": [
        "import pandas as pd\n",
        "\n",
        "data = {\n",
        "    \"Name\": [\"John\", \"Alice\", \"Bob\", \"Diana\"],\n",
        "    \"Age\": [28, 34, 23, 29],\n",
        "    \"Department\": [\"HR\", \"IT\", \"Marketing\", \"Finance\"],\n",
        "    \"Salary\": [45000, 60000, 35000, 50000]\n",
        "}\n",
        "\n",
        "df = pd.DataFrame(data)\n",
        "\n",
        "print(df)"
      ],
      "metadata": {
        "colab": {
          "base_uri": "https://localhost:8080/"
        },
        "id": "sCSR62wEfart",
        "outputId": "3d05d806-f0d6-4ebd-b7a7-6785be4500d7"
      },
      "execution_count": 8,
      "outputs": [
        {
          "output_type": "stream",
          "name": "stdout",
          "text": [
            "    Name  Age Department  Salary\n",
            "0   John   28         HR   45000\n",
            "1  Alice   34         IT   60000\n",
            "2    Bob   23  Marketing   35000\n",
            "3  Diana   29    Finance   50000\n"
          ]
        }
      ]
    },
    {
      "cell_type": "code",
      "source": [
        "import pandas as pd\n",
        "\n",
        "data = {\n",
        "    \"Name\": [\"John\", \"Alice\", \"Bob\", \"Diana\"],\n",
        "    \"Age\": [28, 34, 23, 29],\n",
        "    \"Department\": [\"HR\", \"IT\", \"Marketing\", \"Finance\"],\n",
        "    \"Salary\": [45000, 60000, 35000, 50000]\n",
        "}\n",
        "\n",
        "df = pd.DataFrame(data)\n",
        "\n",
        "print(\"First 2 rows of the DataFrame:\")\n",
        "print(df.head(2))\n",
        "\n",
        "df['Bonus'] = df['Salary'] * 0.1\n",
        "\n",
        "average_salary = df['Salary'].mean()\n",
        "\n",
        "older_than_25 = df[df['Age'] > 25]\n",
        "\n",
        "print(\"\\nDataFrame with Bonus column:\")\n",
        "print(df)\n",
        "\n",
        "print(f\"\\nAverage salary of employees: {average_salary}\")\n",
        "\n",
        "print(\"\\nEmployees older than 25:\")\n",
        "print(older_than_25)"
      ],
      "metadata": {
        "id": "stsjctzYf_YK",
        "outputId": "f603991c-8fe9-464b-9b9f-235d29fa66b5",
        "colab": {
          "base_uri": "https://localhost:8080/"
        }
      },
      "execution_count": 9,
      "outputs": [
        {
          "output_type": "stream",
          "name": "stdout",
          "text": [
            "First 2 rows of the DataFrame:\n",
            "    Name  Age Department  Salary\n",
            "0   John   28         HR   45000\n",
            "1  Alice   34         IT   60000\n",
            "\n",
            "DataFrame with Bonus column:\n",
            "    Name  Age Department  Salary   Bonus\n",
            "0   John   28         HR   45000  4500.0\n",
            "1  Alice   34         IT   60000  6000.0\n",
            "2    Bob   23  Marketing   35000  3500.0\n",
            "3  Diana   29    Finance   50000  5000.0\n",
            "\n",
            "Average salary of employees: 47500.0\n",
            "\n",
            "Employees older than 25:\n",
            "    Name  Age Department  Salary   Bonus\n",
            "0   John   28         HR   45000  4500.0\n",
            "1  Alice   34         IT   60000  6000.0\n",
            "3  Diana   29    Finance   50000  5000.0\n"
          ]
        }
      ]
    }
  ]
}