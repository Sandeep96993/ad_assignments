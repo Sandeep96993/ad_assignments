{
  "nbformat": 4,
  "nbformat_minor": 0,
  "metadata": {
    "colab": {
      "provenance": [],
      "authorship_tag": "ABX9TyNfoic7kNENyv5xA1oEcwio",
      "include_colab_link": true
    },
    "kernelspec": {
      "name": "python3",
      "display_name": "Python 3"
    },
    "language_info": {
      "name": "python"
    }
  },
  "cells": [
    {
      "cell_type": "markdown",
      "metadata": {
        "id": "view-in-github",
        "colab_type": "text"
      },
      "source": [
        "<a href=\"https://colab.research.google.com/github/Sandeep96993/ad_assignments/blob/main/day_5_assignment.ipynb\" target=\"_parent\"><img src=\"https://colab.research.google.com/assets/colab-badge.svg\" alt=\"Open In Colab\"/></a>"
      ]
    },
    {
      "cell_type": "code",
      "execution_count": null,
      "metadata": {
        "colab": {
          "base_uri": "https://localhost:8080/"
        },
        "id": "3lPbguZzOLbh",
        "outputId": "edab685d-d336-4d0b-a6f6-5754dfe8630c"
      },
      "outputs": [
        {
          "output_type": "stream",
          "name": "stdout",
          "text": [
            "Enter a positive integer: 4\n",
            "Numbers from 1 to 4\n",
            "1\n",
            "2\n",
            "3\n",
            "4\n",
            "The sum of all numbers from 1 to 4 is: 10\n"
          ]
        }
      ],
      "source": [
        "n = int(input(\"Enter a positive integer: \"))\n",
        "\n",
        "print(\"Numbers from 1 to\", n)\n",
        "for number in range(1, n + 1):\n",
        "    print(number)\n",
        "\n",
        "sum_of_numbers = 0\n",
        "current_number = 1\n",
        "while current_number <= n:\n",
        "    sum_of_numbers += current_number\n",
        "    current_number += 1\n",
        "\n",
        "print(\"The sum of all numbers from 1 to\", n, \"is:\", sum_of_numbers)\n"
      ]
    }
  ]
}